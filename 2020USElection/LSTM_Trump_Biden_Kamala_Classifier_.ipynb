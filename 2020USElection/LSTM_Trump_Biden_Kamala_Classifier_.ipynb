{
  "nbformat": 4,
  "nbformat_minor": 0,
  "metadata": {
    "colab": {
      "name": "LSTM Trump Biden Kamala Classifier .ipynb",
      "provenance": [],
      "collapsed_sections": [
        "YlqH2zH7pqLe"
      ],
      "toc_visible": true,
      "include_colab_link": true
    },
    "kernelspec": {
      "name": "python3",
      "display_name": "Python 3"
    },
    "accelerator": "GPU"
  },
  "cells": [
    {
      "cell_type": "markdown",
      "metadata": {
        "id": "view-in-github",
        "colab_type": "text"
      },
      "source": [
        "<a href=\"https://colab.research.google.com/github/sljm12/Programming-exploration/blob/master/2020USElection/LSTM_Trump_Biden_Kamala_Classifier_.ipynb\" target=\"_parent\"><img src=\"https://colab.research.google.com/assets/colab-badge.svg\" alt=\"Open In Colab\"/></a>"
      ]
    },
    {
      "cell_type": "markdown",
      "metadata": {
        "id": "WMg9tEpwxP1Z"
      },
      "source": [
        "## Intro ##\n",
        "This notebook uses LSTM and Dense layers to do speaker identification based on the US election speeches"
      ]
    },
    {
      "cell_type": "code",
      "metadata": {
        "id": "KHRvF17C7vjB"
      },
      "source": [
        "%matplotlib inline\n",
        "import matplotlib.pyplot as plt\n",
        "plt.style.use(\"ggplot\")\n",
        "\n",
        "import pandas as pd\n",
        "import numpy as np\n",
        "\n",
        "import tensorflow as tf\n",
        "\n",
        "from tensorflow.keras.preprocessing import sequence\n",
        "from tensorflow.keras.preprocessing.text import Tokenizer, text_to_word_sequence\n",
        "from tensorflow.keras.models import Model\n",
        "from tensorflow.keras.layers import LSTM, Embedding, Dense, TimeDistributed, Dropout, Bidirectional, Input\n",
        "\n",
        "from tensorflow.keras.optimizers import Adam\n",
        "from tensorflow.keras.preprocessing.sequence import pad_sequences\n",
        "import json\n",
        "from sklearn.utils import shuffle\n",
        "from sklearn.model_selection import train_test_split\n",
        "from sklearn.preprocessing import OneHotEncoder"
      ],
      "execution_count": 1,
      "outputs": []
    },
    {
      "cell_type": "code",
      "metadata": {
        "id": "hxsPFuahqc0e",
        "outputId": "f15b4cee-6285-469d-e58d-1862a9176ab1",
        "colab": {
          "base_uri": "https://localhost:8080/",
          "height": 535
        }
      },
      "source": [
        "!wget https://www.dropbox.com/s/fna7obll05a8dmi/2020USElection.zip\n",
        "!unzip 2020USElection.zip"
      ],
      "execution_count": 2,
      "outputs": [
        {
          "output_type": "stream",
          "text": [
            "--2020-10-23 12:08:44--  https://www.dropbox.com/s/fna7obll05a8dmi/2020USElection.zip\n",
            "Resolving www.dropbox.com (www.dropbox.com)... 162.125.82.1, 2620:100:6032:1::a27d:5201\n",
            "Connecting to www.dropbox.com (www.dropbox.com)|162.125.82.1|:443... connected.\n",
            "HTTP request sent, awaiting response... 301 Moved Permanently\n",
            "Location: /s/raw/fna7obll05a8dmi/2020USElection.zip [following]\n",
            "--2020-10-23 12:08:45--  https://www.dropbox.com/s/raw/fna7obll05a8dmi/2020USElection.zip\n",
            "Reusing existing connection to www.dropbox.com:443.\n",
            "HTTP request sent, awaiting response... 302 Found\n",
            "Location: https://ucf472704af420100da831cafc2c.dl.dropboxusercontent.com/cd/0/inline/BBwMqLvobXhBdfcYvccS38OEwjfGR0UCY52yHIz1X7xYdqChJ12RrjPup01k4wyo8ZIGJ4SKxt2lVWEQe23JJN8ATFi0LXo9ftpThMrMO_mMmYfOxvfX39fW7ZRyLYxmpCg/file# [following]\n",
            "--2020-10-23 12:08:45--  https://ucf472704af420100da831cafc2c.dl.dropboxusercontent.com/cd/0/inline/BBwMqLvobXhBdfcYvccS38OEwjfGR0UCY52yHIz1X7xYdqChJ12RrjPup01k4wyo8ZIGJ4SKxt2lVWEQe23JJN8ATFi0LXo9ftpThMrMO_mMmYfOxvfX39fW7ZRyLYxmpCg/file\n",
            "Resolving ucf472704af420100da831cafc2c.dl.dropboxusercontent.com (ucf472704af420100da831cafc2c.dl.dropboxusercontent.com)... 162.125.82.15, 2620:100:6032:15::a27d:520f\n",
            "Connecting to ucf472704af420100da831cafc2c.dl.dropboxusercontent.com (ucf472704af420100da831cafc2c.dl.dropboxusercontent.com)|162.125.82.15|:443... connected.\n",
            "HTTP request sent, awaiting response... 302 Found\n",
            "Location: /cd/0/inline2/BBxeHVzBSZoKgN2AZ7z9VO9RLwbBxrBf4SfgbUJ51eVACRwQFVbxySPQqhl-b39fb7M6T-LKDWxY3yrfbRayl90o85vMVs-Xg7iKPc65voLtDSXgjAizotmUSMX3SLbKTMzjm5bjRy47BbbFJDiMCRMrya6DMsGBqo5NiO1LPzqIyww6v3ycY6T1-dZbbVzFQHxywtO1sJSMuIbdmEig7cOZC8YPgnFCw6n9wNczuCMeCGp_Jwgb-HjaxIaaeiNe6dVJSQ5jYEQ8vH-aNrJ-J3divdm3LPyEA199gxrsaBxYJf5XrWYYlAUwSRRWKmfnpEb9YpLf2GapJuAskhXrGvJ-VSU-HdSHAsPhF-pZs_SrIg/file [following]\n",
            "--2020-10-23 12:08:47--  https://ucf472704af420100da831cafc2c.dl.dropboxusercontent.com/cd/0/inline2/BBxeHVzBSZoKgN2AZ7z9VO9RLwbBxrBf4SfgbUJ51eVACRwQFVbxySPQqhl-b39fb7M6T-LKDWxY3yrfbRayl90o85vMVs-Xg7iKPc65voLtDSXgjAizotmUSMX3SLbKTMzjm5bjRy47BbbFJDiMCRMrya6DMsGBqo5NiO1LPzqIyww6v3ycY6T1-dZbbVzFQHxywtO1sJSMuIbdmEig7cOZC8YPgnFCw6n9wNczuCMeCGp_Jwgb-HjaxIaaeiNe6dVJSQ5jYEQ8vH-aNrJ-J3divdm3LPyEA199gxrsaBxYJf5XrWYYlAUwSRRWKmfnpEb9YpLf2GapJuAskhXrGvJ-VSU-HdSHAsPhF-pZs_SrIg/file\n",
            "Reusing existing connection to ucf472704af420100da831cafc2c.dl.dropboxusercontent.com:443.\n",
            "HTTP request sent, awaiting response... 200 OK\n",
            "Length: 7288468 (7.0M) [application/zip]\n",
            "Saving to: ‘2020USElection.zip’\n",
            "\n",
            "2020USElection.zip  100%[===================>]   6.95M  4.43MB/s    in 1.6s    \n",
            "\n",
            "2020-10-23 12:08:49 (4.43 MB/s) - ‘2020USElection.zip’ saved [7288468/7288468]\n",
            "\n",
            "Archive:  2020USElection.zip\n",
            "  inflating: 2020USElection-BreakSentence.csv  \n",
            "  inflating: 2020USElectiontop5.csv  \n",
            "  inflating: 2020USElectionTranscript.csv  \n"
          ],
          "name": "stdout"
        }
      ]
    },
    {
      "cell_type": "markdown",
      "metadata": {
        "id": "mrjiL7cAvPXy"
      },
      "source": [
        "## Prepping the data ##"
      ]
    },
    {
      "cell_type": "code",
      "metadata": {
        "id": "o9a4H8P2Z3-k"
      },
      "source": [
        "df = pd.read_csv(\"/content/2020USElection-BreakSentence.csv\")"
      ],
      "execution_count": 3,
      "outputs": []
    },
    {
      "cell_type": "code",
      "metadata": {
        "id": "RoiYHFTAabkm",
        "outputId": "19506080-88f9-43a8-e048-cace2628ee51",
        "colab": {
          "base_uri": "https://localhost:8080/",
          "height": 194
        }
      },
      "source": [
        "df.head()"
      ],
      "execution_count": 4,
      "outputs": [
        {
          "output_type": "execute_result",
          "data": {
            "text/html": [
              "<div>\n",
              "<style scoped>\n",
              "    .dataframe tbody tr th:only-of-type {\n",
              "        vertical-align: middle;\n",
              "    }\n",
              "\n",
              "    .dataframe tbody tr th {\n",
              "        vertical-align: top;\n",
              "    }\n",
              "\n",
              "    .dataframe thead th {\n",
              "        text-align: right;\n",
              "    }\n",
              "</style>\n",
              "<table border=\"1\" class=\"dataframe\">\n",
              "  <thead>\n",
              "    <tr style=\"text-align: right;\">\n",
              "      <th></th>\n",
              "      <th>Unnamed: 0</th>\n",
              "      <th>name</th>\n",
              "      <th>file</th>\n",
              "      <th>text</th>\n",
              "    </tr>\n",
              "  </thead>\n",
              "  <tbody>\n",
              "    <tr>\n",
              "      <th>0</th>\n",
              "      <td>0</td>\n",
              "      <td>Bernie Sanders</td>\n",
              "      <td>2020 Democratic National Convention (DNC) Nigh...</td>\n",
              "      <td>We must come together to defeat Donald Trump, ...</td>\n",
              "    </tr>\n",
              "    <tr>\n",
              "      <th>1</th>\n",
              "      <td>1</td>\n",
              "      <td>Joe Biden</td>\n",
              "      <td>2020 Democratic National Convention (DNC) Nigh...</td>\n",
              "      <td>I’ll see you on Thursday.</td>\n",
              "    </tr>\n",
              "    <tr>\n",
              "      <th>2</th>\n",
              "      <td>2</td>\n",
              "      <td>Kamala Harris</td>\n",
              "      <td>2020 Democratic National Convention (DNC) Nigh...</td>\n",
              "      <td>In this election, we have a chance to change t...</td>\n",
              "    </tr>\n",
              "    <tr>\n",
              "      <th>3</th>\n",
              "      <td>3</td>\n",
              "      <td>Kamala Harris</td>\n",
              "      <td>2020 Democratic National Convention (DNC) Nigh...</td>\n",
              "      <td>We’re all in this fight together.</td>\n",
              "    </tr>\n",
              "    <tr>\n",
              "      <th>4</th>\n",
              "      <td>4</td>\n",
              "      <td>Kamala Harris</td>\n",
              "      <td>2020 Democratic National Convention (DNC) Nigh...</td>\n",
              "      <td>What an awesome responsibility.</td>\n",
              "    </tr>\n",
              "  </tbody>\n",
              "</table>\n",
              "</div>"
            ],
            "text/plain": [
              "   Unnamed: 0  ...                                               text\n",
              "0           0  ...  We must come together to defeat Donald Trump, ...\n",
              "1           1  ...                          I’ll see you on Thursday.\n",
              "2           2  ...  In this election, we have a chance to change t...\n",
              "3           3  ...                  We’re all in this fight together.\n",
              "4           4  ...                    What an awesome responsibility.\n",
              "\n",
              "[5 rows x 4 columns]"
            ]
          },
          "metadata": {
            "tags": []
          },
          "execution_count": 4
        }
      ]
    },
    {
      "cell_type": "code",
      "metadata": {
        "id": "w2-BDz5u_CAu",
        "outputId": "f4229fe5-ade3-4921-edd3-ac9430a30491",
        "colab": {
          "base_uri": "https://localhost:8080/",
          "height": 106
        }
      },
      "source": [
        "df[\"text\"].values"
      ],
      "execution_count": 5,
      "outputs": [
        {
          "output_type": "execute_result",
          "data": {
            "text/plain": [
              "array(['We must come together to defeat Donald Trump, and elect Joe Biden and Kamala Harris as our next President and Vice President.',\n",
              "       'I’ll see you on Thursday.',\n",
              "       'In this election, we have a chance to change the course of history.',\n",
              "       ..., 'We’re going to be in Detroit Monday night.',\n",
              "       'Come join us Monday night.', 'I’ll see you later.'], dtype=object)"
            ]
          },
          "metadata": {
            "tags": []
          },
          "execution_count": 5
        }
      ]
    },
    {
      "cell_type": "markdown",
      "metadata": {
        "id": "GadvqCTEz2wa"
      },
      "source": [
        "## One Hot Encoding of Labels"
      ]
    },
    {
      "cell_type": "code",
      "metadata": {
        "id": "e9lSZVynadU9"
      },
      "source": [
        "names = df[\"name\"].unique()"
      ],
      "execution_count": 6,
      "outputs": []
    },
    {
      "cell_type": "code",
      "metadata": {
        "id": "vkVgLzkBYcdZ"
      },
      "source": [
        "num_categories = len(names)"
      ],
      "execution_count": 7,
      "outputs": []
    },
    {
      "cell_type": "code",
      "metadata": {
        "id": "G_peqdAe5DK3"
      },
      "source": [
        "i, m = pd.factorize(df[\"name\"])"
      ],
      "execution_count": 8,
      "outputs": []
    },
    {
      "cell_type": "code",
      "metadata": {
        "id": "d-743LVZgAHD",
        "outputId": "d9db6af9-834d-4af7-b988-a0d13d3dbd06",
        "colab": {
          "base_uri": "https://localhost:8080/",
          "height": 70
        }
      },
      "source": [
        "m"
      ],
      "execution_count": 38,
      "outputs": [
        {
          "output_type": "execute_result",
          "data": {
            "text/plain": [
              "Index(['Bernie Sanders', 'Joe Biden', 'Kamala Harris', 'Donald Trump',\n",
              "       'Mike Pence'],\n",
              "      dtype='object')"
            ]
          },
          "metadata": {
            "tags": []
          },
          "execution_count": 38
        }
      ]
    },
    {
      "cell_type": "code",
      "metadata": {
        "id": "ENZ1-H7A1dFp"
      },
      "source": [
        "df[\"cat_num\"]=i"
      ],
      "execution_count": 9,
      "outputs": []
    },
    {
      "cell_type": "code",
      "metadata": {
        "id": "2wMCXDkG5KQN"
      },
      "source": [
        "labels = tf.one_hot(i, depth=len(m))"
      ],
      "execution_count": 10,
      "outputs": []
    },
    {
      "cell_type": "code",
      "metadata": {
        "id": "4SO272amgfIE"
      },
      "source": [
        "(train_df, others)=train_test_split(df,shuffle=True,test_size=0.4, stratify=df['name'])\n",
        "(val_df, test_df)=train_test_split(others,shuffle=True,test_size=0.5, stratify=others['name'])"
      ],
      "execution_count": 11,
      "outputs": []
    },
    {
      "cell_type": "code",
      "metadata": {
        "id": "za8YNFhWyxR4",
        "outputId": "23dc2e95-adfc-48ab-b13b-277159449f93",
        "colab": {
          "base_uri": "https://localhost:8080/",
          "height": 70
        }
      },
      "source": [
        "print(len(train_df))\n",
        "print(len(val_df))\n",
        "print(len(test_df))"
      ],
      "execution_count": 12,
      "outputs": [
        {
          "output_type": "stream",
          "text": [
            "53659\n",
            "17887\n",
            "17887\n"
          ],
          "name": "stdout"
        }
      ]
    },
    {
      "cell_type": "code",
      "metadata": {
        "id": "xdaB2sdPqp2k"
      },
      "source": [
        "X_train = train_df[\"text\"].astype(str).values\n",
        "y_train = tf.one_hot(train_df[\"cat_num\"], num_categories)\n",
        "X_val = val_df[\"text\"].astype(str).values\n",
        "y_val = tf.one_hot(val_df[\"cat_num\"], num_categories)\n",
        "X_test = test_df[\"text\"].astype(str).values\n",
        "y_test= tf.one_hot(test_df[\"cat_num\"], num_categories)"
      ],
      "execution_count": 13,
      "outputs": []
    },
    {
      "cell_type": "markdown",
      "metadata": {
        "id": "JB0mSmenIaoC"
      },
      "source": [
        "## Tokenizer the text ##"
      ]
    },
    {
      "cell_type": "code",
      "metadata": {
        "id": "4AytbBqsmY6X"
      },
      "source": [
        "max_len =100\n",
        "max_features = 20000\n",
        "batch_size=64\n",
        "dims=50"
      ],
      "execution_count": 14,
      "outputs": []
    },
    {
      "cell_type": "markdown",
      "metadata": {
        "id": "cpgEvSIOpkq3"
      },
      "source": [
        "## Token ##"
      ]
    },
    {
      "cell_type": "code",
      "metadata": {
        "id": "v7t62hj4qp4l"
      },
      "source": [
        "t=Tokenizer()\n",
        "t.fit_on_texts(df[\"text\"].astype(str).values)"
      ],
      "execution_count": 15,
      "outputs": []
    },
    {
      "cell_type": "code",
      "metadata": {
        "id": "bM844h84hbFn"
      },
      "source": [
        "#Pad Data\n",
        "text_encode = t.texts_to_sequences(X_train) #Encode the text\n",
        "x_train_pad=pad_sequences(maxlen=max_len, sequences=text_encode, padding=\"post\", value=0)\n",
        "\n",
        "val_encode = t.texts_to_sequences(X_val) #Encode the text\n",
        "x_val_pad=pad_sequences(maxlen=max_len, sequences=val_encode, padding=\"post\", value=0)"
      ],
      "execution_count": 16,
      "outputs": []
    },
    {
      "cell_type": "code",
      "metadata": {
        "id": "6ZDCtofcxepv"
      },
      "source": [
        "test_encode = t.texts_to_sequences(X_test)\n",
        "x_test_pad=pad_sequences(maxlen=max_len,sequences=test_encode,padding='post',value=0)"
      ],
      "execution_count": 17,
      "outputs": []
    },
    {
      "cell_type": "code",
      "metadata": {
        "id": "wt_MedX4JF9a",
        "outputId": "221834dd-28cd-4d85-ed69-3b4b389d7a1b",
        "colab": {
          "base_uri": "https://localhost:8080/",
          "height": 108
        }
      },
      "source": [
        "import json\n",
        "print(X_train[0])\n",
        "print(text_encode[0])\n",
        "t_config = t.get_config()\n",
        "\n",
        "print(t_config.keys())\n",
        "\n",
        "word_index=json.loads(t_config[\"word_index\"])\n",
        "index_word=json.loads(t_config[\"index_word\"])\n",
        "n_words=len(word_index.keys())\n",
        "print(n_words)"
      ],
      "execution_count": 18,
      "outputs": [
        {
          "output_type": "stream",
          "text": [
            "He is going to lower the eligibility age for Medicare from 65 to 60, meaning millions of more people will be eligible for Medicare.\n",
            "[20, 14, 18, 3, 842, 1, 5777, 1232, 15, 620, 71, 3139, 3, 926, 1497, 267, 5, 53, 22, 40, 23, 2875, 15, 620]\n",
            "dict_keys(['num_words', 'filters', 'lower', 'split', 'char_level', 'oov_token', 'document_count', 'word_counts', 'word_docs', 'index_docs', 'index_word', 'word_index'])\n",
            "16445\n"
          ],
          "name": "stdout"
        }
      ]
    },
    {
      "cell_type": "code",
      "metadata": {
        "id": "H0XlkbOBhg3e",
        "outputId": "7ef94b8b-5f05-4471-f4cb-6099dba8cb47",
        "colab": {
          "base_uri": "https://localhost:8080/",
          "height": 35
        }
      },
      "source": [
        "len(x_train_pad[0])"
      ],
      "execution_count": 19,
      "outputs": [
        {
          "output_type": "execute_result",
          "data": {
            "text/plain": [
              "100"
            ]
          },
          "metadata": {
            "tags": []
          },
          "execution_count": 19
        }
      ]
    },
    {
      "cell_type": "markdown",
      "metadata": {
        "id": "YlqH2zH7pqLe"
      },
      "source": [
        "## Complicated Way ##"
      ]
    },
    {
      "cell_type": "code",
      "metadata": {
        "id": "L-k7hq8gsuDt"
      },
      "source": [
        "words = set()\n",
        "\n",
        "for x in X_train:\n",
        "  s=text_to_word_sequence(x)\n",
        "  [words.add(i) for i in s]\n",
        "\n",
        "words.add(\"<ENDTok>\")"
      ],
      "execution_count": null,
      "outputs": []
    },
    {
      "cell_type": "code",
      "metadata": {
        "id": "ssqpV-AYrV7v"
      },
      "source": [
        "word2idx = {w: i for i, w in enumerate(words)}\n",
        "idx2word = {i: w for w, i in word2idx.items()}"
      ],
      "execution_count": null,
      "outputs": []
    },
    {
      "cell_type": "code",
      "metadata": {
        "id": "9CEqAVSJqsiD"
      },
      "source": [
        "encode = [[word2idx[tup] for tup in text_to_word_sequence(s)] for s in X_train]"
      ],
      "execution_count": null,
      "outputs": []
    },
    {
      "cell_type": "code",
      "metadata": {
        "id": "vqT28_46uvpm",
        "outputId": "de8925ca-9961-4e30-c57c-620b827833df",
        "colab": {
          "base_uri": "https://localhost:8080/",
          "height": 87
        }
      },
      "source": [
        "print(len(encoded[0]),len(text_to_word_sequence(X_train[0])))\n",
        "print(word2idx[\"<ENDTok>\"])\n",
        "print(encoded[0])"
      ],
      "execution_count": null,
      "outputs": [
        {
          "output_type": "stream",
          "text": [
            "47 47\n",
            "130783\n",
            "[196714, 185833, 64440, 111005, 186474, 173023, 61657, 47846, 76658, 98757, 166467, 17638, 121582, 21216, 85786, 155699, 185877, 209583, 14548, 167721, 18175, 190516, 122019, 21667, 16312, 182509, 144284, 19906, 112310, 105622, 21111, 208166, 106211, 64440, 9994, 196605, 64440, 63117, 172630, 79628, 163334, 85048, 7461, 829, 38896, 63136, 168653]\n"
          ],
          "name": "stdout"
        }
      ]
    },
    {
      "cell_type": "code",
      "metadata": {
        "id": "iY0W1EZ6vz1H",
        "outputId": "c9b25428-2170-4144-ea78-f557befc8305",
        "colab": {
          "base_uri": "https://localhost:8080/",
          "height": 185
        }
      },
      "source": [
        "x_train_pad=pad_sequences(maxlen=max_len, sequences=encode, padding=\"post\", value=word2idx[\"<ENDTok>\"])\n",
        "print(x_train_pad[0])"
      ],
      "execution_count": null,
      "outputs": [
        {
          "output_type": "stream",
          "text": [
            "[196714 185833  64440 111005 186474 173023  61657  47846  76658  98757\n",
            " 166467  17638 121582  21216  85786 155699 185877 209583  14548 167721\n",
            "  18175 190516 122019  21667  16312 182509 144284  19906 112310 105622\n",
            "  21111 208166 106211  64440   9994 196605  64440  63117 172630  79628\n",
            " 163334  85048   7461    829  38896  63136 168653 130783 130783 130783\n",
            " 130783 130783 130783 130783 130783 130783 130783 130783 130783 130783\n",
            " 130783 130783 130783 130783 130783 130783 130783 130783 130783 130783\n",
            " 130783 130783 130783 130783 130783 130783 130783 130783 130783 130783\n",
            " 130783 130783 130783 130783 130783 130783 130783 130783 130783 130783\n",
            " 130783 130783 130783 130783 130783 130783 130783 130783 130783 130783]\n"
          ],
          "name": "stdout"
        }
      ]
    },
    {
      "cell_type": "code",
      "metadata": {
        "id": "jwmpvkh5wC45",
        "outputId": "be828372-89de-4c04-8d42-28d1ddd1fe8c",
        "colab": {
          "base_uri": "https://localhost:8080/",
          "height": 34
        }
      },
      "source": [
        "n_words=len(words)\n",
        "print(n_words)"
      ],
      "execution_count": null,
      "outputs": [
        {
          "output_type": "stream",
          "text": [
            "210338\n"
          ],
          "name": "stdout"
        }
      ]
    },
    {
      "cell_type": "markdown",
      "metadata": {
        "id": "Va40PtNewUVe"
      },
      "source": [
        "## Model ##"
      ]
    },
    {
      "cell_type": "code",
      "metadata": {
        "id": "24985ZApuror",
        "outputId": "5476fa24-0896-4f73-e526-9a29960e91c1",
        "colab": {
          "base_uri": "https://localhost:8080/",
          "height": 90
        }
      },
      "source": [
        "Inp = Input(shape=(max_len,))\n",
        "\n",
        "#notice the n_words+1 in input_dim, result of using tf tokenizer\n",
        "\n",
        "x = Embedding(input_dim=n_words+1, output_dim=dims, input_length=max_len)(Inp)\n",
        "x = Dropout(rate=0.1)(x)\n",
        "x = Bidirectional(LSTM(units=100, recurrent_dropout=0.1))(x)\n",
        "#x = Dropout(rate=0.1)(x)\n",
        "\n",
        "# Note that the output layers are given names.\n",
        "toxic_prediction = Dense(num_categories, activation=\"softmax\", name='classify')(x)"
      ],
      "execution_count": 25,
      "outputs": [
        {
          "output_type": "stream",
          "text": [
            "WARNING:tensorflow:Layer lstm_1 will not use cuDNN kernel since it doesn't meet the cuDNN kernel criteria. It will use generic GPU kernel as fallback when running on GPU\n",
            "WARNING:tensorflow:Layer lstm_1 will not use cuDNN kernel since it doesn't meet the cuDNN kernel criteria. It will use generic GPU kernel as fallback when running on GPU\n",
            "WARNING:tensorflow:Layer lstm_1 will not use cuDNN kernel since it doesn't meet the cuDNN kernel criteria. It will use generic GPU kernel as fallback when running on GPU\n"
          ],
          "name": "stdout"
        }
      ]
    },
    {
      "cell_type": "code",
      "metadata": {
        "id": "nbVA9iNn1MOQ",
        "outputId": "668e5d47-ea68-4d26-b3bb-5c2aa526647a",
        "colab": {
          "base_uri": "https://localhost:8080/",
          "height": 141
        }
      },
      "source": [
        "np.asarray(y_train)"
      ],
      "execution_count": 21,
      "outputs": [
        {
          "output_type": "execute_result",
          "data": {
            "text/plain": [
              "array([[1., 0., 0., 0., 0.],\n",
              "       [0., 1., 0., 0., 0.],\n",
              "       [0., 0., 0., 1., 0.],\n",
              "       ...,\n",
              "       [0., 1., 0., 0., 0.],\n",
              "       [0., 0., 0., 1., 0.],\n",
              "       [0., 0., 0., 1., 0.]], dtype=float32)"
            ]
          },
          "metadata": {
            "tags": []
          },
          "execution_count": 21
        }
      ]
    },
    {
      "cell_type": "code",
      "metadata": {
        "id": "DEG4PAO8urow"
      },
      "source": [
        "model = Model(Inp, [toxic_prediction])"
      ],
      "execution_count": 22,
      "outputs": []
    },
    {
      "cell_type": "code",
      "metadata": {
        "id": "wroFFbtOuroy"
      },
      "source": [
        "model.compile(optimizer=\"adam\", \n",
        "              loss='categorical_crossentropy',\n",
        "              metrics=[\"accuracy\"])"
      ],
      "execution_count": 26,
      "outputs": []
    },
    {
      "cell_type": "code",
      "metadata": {
        "id": "7jkuzEJmvI_p",
        "outputId": "840da88b-5181-4763-9f7e-4f9fd36db7cf",
        "colab": {
          "base_uri": "https://localhost:8080/",
          "height": 372
        }
      },
      "source": [
        "history = model.fit( np.array(x_train_pad), \n",
        "                    np.array(y_train),\n",
        "                    batch_size=2048, \n",
        "                    epochs=10, \n",
        "                    validation_data= (np.array(x_val_pad),\n",
        "                        np.array(y_val)),\n",
        "                    verbose=1)"
      ],
      "execution_count": 34,
      "outputs": [
        {
          "output_type": "stream",
          "text": [
            "Epoch 1/10\n",
            "27/27 [==============================] - 29s 1s/step - loss: 0.2965 - accuracy: 0.8960 - val_loss: 0.8616 - val_accuracy: 0.7707\n",
            "Epoch 2/10\n",
            "27/27 [==============================] - 30s 1s/step - loss: 0.2956 - accuracy: 0.8970 - val_loss: 0.8743 - val_accuracy: 0.7711\n",
            "Epoch 3/10\n",
            "27/27 [==============================] - 29s 1s/step - loss: 0.2919 - accuracy: 0.8975 - val_loss: 0.8693 - val_accuracy: 0.7711\n",
            "Epoch 4/10\n",
            "27/27 [==============================] - 28s 1s/step - loss: 0.2875 - accuracy: 0.8993 - val_loss: 0.8993 - val_accuracy: 0.7707\n",
            "Epoch 5/10\n",
            "27/27 [==============================] - 28s 1s/step - loss: 0.2837 - accuracy: 0.9011 - val_loss: 0.8999 - val_accuracy: 0.7707\n",
            "Epoch 6/10\n",
            "27/27 [==============================] - 28s 1s/step - loss: 0.2832 - accuracy: 0.9006 - val_loss: 0.9150 - val_accuracy: 0.7698\n",
            "Epoch 7/10\n",
            "27/27 [==============================] - 28s 1s/step - loss: 0.2810 - accuracy: 0.9019 - val_loss: 0.9061 - val_accuracy: 0.7706\n",
            "Epoch 8/10\n",
            "27/27 [==============================] - 28s 1s/step - loss: 0.2772 - accuracy: 0.9029 - val_loss: 0.9276 - val_accuracy: 0.7696\n",
            "Epoch 9/10\n",
            "27/27 [==============================] - 29s 1s/step - loss: 0.2761 - accuracy: 0.9027 - val_loss: 0.9341 - val_accuracy: 0.7704\n",
            "Epoch 10/10\n",
            "27/27 [==============================] - 29s 1s/step - loss: 0.2730 - accuracy: 0.9037 - val_loss: 0.9146 - val_accuracy: 0.7713\n"
          ],
          "name": "stdout"
        }
      ]
    },
    {
      "cell_type": "code",
      "metadata": {
        "id": "jT2flZz94P7x",
        "outputId": "89b503f9-7e1e-4b45-d054-a8fe91cb003e",
        "colab": {
          "base_uri": "https://localhost:8080/",
          "height": 372
        }
      },
      "source": [
        "history = model.fit( np.array(x_train_pad), \n",
        "                    np.array(y_train),\n",
        "                    batch_size=2048, \n",
        "                    epochs=10, \n",
        "                    validation_data= (np.array(x_val_pad),\n",
        "                        np.array(y_val)),\n",
        "                    verbose=1)"
      ],
      "execution_count": null,
      "outputs": [
        {
          "output_type": "stream",
          "text": [
            "Epoch 1/10\n",
            "4/4 [==============================] - 2s 500ms/step - loss: 0.3729 - accuracy: 0.6063 - val_loss: 0.4192 - val_accuracy: 0.5416\n",
            "Epoch 2/10\n",
            "4/4 [==============================] - 2s 543ms/step - loss: 0.3773 - accuracy: 0.5935 - val_loss: 0.3209 - val_accuracy: 0.5909\n",
            "Epoch 3/10\n",
            "4/4 [==============================] - 2s 507ms/step - loss: 0.2980 - accuracy: 0.6478 - val_loss: 0.3289 - val_accuracy: 0.6268\n",
            "Epoch 4/10\n",
            "4/4 [==============================] - 2s 543ms/step - loss: 0.3094 - accuracy: 0.6784 - val_loss: 0.2961 - val_accuracy: 0.6742\n",
            "Epoch 5/10\n",
            "4/4 [==============================] - 2s 583ms/step - loss: 0.2651 - accuracy: 0.7192 - val_loss: 0.3721 - val_accuracy: 0.6590\n",
            "Epoch 6/10\n",
            "4/4 [==============================] - 2s 533ms/step - loss: 0.3390 - accuracy: 0.6058 - val_loss: 0.2889 - val_accuracy: 0.7059\n",
            "Epoch 7/10\n",
            "4/4 [==============================] - 2s 513ms/step - loss: 0.2489 - accuracy: 0.7402 - val_loss: 0.2889 - val_accuracy: 0.6746\n",
            "Epoch 8/10\n",
            "4/4 [==============================] - 2s 542ms/step - loss: 0.2258 - accuracy: 0.7576 - val_loss: 0.2488 - val_accuracy: 0.7216\n",
            "Epoch 9/10\n",
            "4/4 [==============================] - 2s 546ms/step - loss: 0.2083 - accuracy: 0.7806 - val_loss: 0.2567 - val_accuracy: 0.7220\n",
            "Epoch 10/10\n",
            "4/4 [==============================] - 2s 543ms/step - loss: 0.2005 - accuracy: 0.7852 - val_loss: 0.2656 - val_accuracy: 0.7271\n"
          ],
          "name": "stdout"
        }
      ]
    },
    {
      "cell_type": "code",
      "metadata": {
        "id": "OviUiJ91xOGN",
        "outputId": "28069772-e739-4510-bf71-11c0341234fb",
        "colab": {
          "base_uri": "https://localhost:8080/",
          "height": 35
        }
      },
      "source": [
        "score=model.evaluate(np.array(x_test_pad),np.array(y_test), batch_size=1024, verbose=1)"
      ],
      "execution_count": 33,
      "outputs": [
        {
          "output_type": "stream",
          "text": [
            "18/18 [==============================] - 2s 120ms/step - loss: 0.8852 - accuracy: 0.7706\n"
          ],
          "name": "stdout"
        }
      ]
    },
    {
      "cell_type": "code",
      "metadata": {
        "id": "GxNjgw-GxvPW",
        "outputId": "aa6bc404-bc2a-4abe-8ca1-8040202c6a69",
        "colab": {
          "base_uri": "https://localhost:8080/",
          "height": 35
        }
      },
      "source": [
        "print(\"model accuracy:\",score[1])"
      ],
      "execution_count": null,
      "outputs": [
        {
          "output_type": "stream",
          "text": [
            "model accuracy: 0.7386102080345154\n"
          ],
          "name": "stdout"
        }
      ]
    },
    {
      "cell_type": "code",
      "metadata": {
        "id": "djux-NpUz7Ji",
        "outputId": "fe28dbfd-e277-42b3-c3ff-9d3b1a4b0d10",
        "colab": {
          "base_uri": "https://localhost:8080/",
          "height": 52
        }
      },
      "source": [
        "x = np.expand_dims(x_test_pad[0], axis=0)\n",
        "x.shape\n",
        "model.predict(x)"
      ],
      "execution_count": null,
      "outputs": [
        {
          "output_type": "execute_result",
          "data": {
            "text/plain": [
              "array([[0.03021459, 0.9041168 , 0.01275015, 0.02538419, 0.02753435]],\n",
              "      dtype=float32)"
            ]
          },
          "metadata": {
            "tags": []
          },
          "execution_count": 29
        }
      ]
    },
    {
      "cell_type": "code",
      "metadata": {
        "id": "wwr6KqFB5y0I",
        "outputId": "00db1cbd-ee87-40aa-8a02-a4edc4b24da1",
        "colab": {
          "base_uri": "https://localhost:8080/",
          "height": 194
        }
      },
      "source": [
        "test_df.head()"
      ],
      "execution_count": null,
      "outputs": [
        {
          "output_type": "execute_result",
          "data": {
            "text/html": [
              "<div>\n",
              "<style scoped>\n",
              "    .dataframe tbody tr th:only-of-type {\n",
              "        vertical-align: middle;\n",
              "    }\n",
              "\n",
              "    .dataframe tbody tr th {\n",
              "        vertical-align: top;\n",
              "    }\n",
              "\n",
              "    .dataframe thead th {\n",
              "        text-align: right;\n",
              "    }\n",
              "</style>\n",
              "<table border=\"1\" class=\"dataframe\">\n",
              "  <thead>\n",
              "    <tr style=\"text-align: right;\">\n",
              "      <th></th>\n",
              "      <th>Unnamed: 0</th>\n",
              "      <th>name</th>\n",
              "      <th>time</th>\n",
              "      <th>text</th>\n",
              "      <th>file</th>\n",
              "      <th>cat_num</th>\n",
              "    </tr>\n",
              "  </thead>\n",
              "  <tbody>\n",
              "    <tr>\n",
              "      <th>296</th>\n",
              "      <td>1611</td>\n",
              "      <td>Bernie Sanders</td>\n",
              "      <td>15:03</td>\n",
              "      <td>Donald Trump and the Republican leadership are...</td>\n",
              "      <td>Bernie Sanders Los Angeles Rally Transcript Be...</td>\n",
              "      <td>0</td>\n",
              "    </tr>\n",
              "    <tr>\n",
              "      <th>5780</th>\n",
              "      <td>10213</td>\n",
              "      <td>Donald Trump</td>\n",
              "      <td>56:15</td>\n",
              "      <td>But we got more money than they asked for and ...</td>\n",
              "      <td>Donald Trump ‘Black Economic Empowerment’ Spee...</td>\n",
              "      <td>3</td>\n",
              "    </tr>\n",
              "    <tr>\n",
              "      <th>18</th>\n",
              "      <td>183</td>\n",
              "      <td>Joe Biden</td>\n",
              "      <td>01:07:49</td>\n",
              "      <td>The future really rests on investment. We’re g...</td>\n",
              "      <td>2020 Democratic National Convention (DNC) Nigh...</td>\n",
              "      <td>1</td>\n",
              "    </tr>\n",
              "    <tr>\n",
              "      <th>4229</th>\n",
              "      <td>8328</td>\n",
              "      <td>Donald Trump</td>\n",
              "      <td>01:13:28</td>\n",
              "      <td>We’ll strongly protect Medicare and Social Sec...</td>\n",
              "      <td>Donald Trump Newport News, Virginia Campaign R...</td>\n",
              "      <td>3</td>\n",
              "    </tr>\n",
              "    <tr>\n",
              "      <th>1992</th>\n",
              "      <td>5235</td>\n",
              "      <td>Donald Trump</td>\n",
              "      <td>01:13:48</td>\n",
              "      <td>But if you’re not requesting them, when you ge...</td>\n",
              "      <td>Donald Trump Campaign Speech Transcript Vandal...</td>\n",
              "      <td>3</td>\n",
              "    </tr>\n",
              "  </tbody>\n",
              "</table>\n",
              "</div>"
            ],
            "text/plain": [
              "      Unnamed: 0  ... cat_num\n",
              "296         1611  ...       0\n",
              "5780       10213  ...       3\n",
              "18           183  ...       1\n",
              "4229        8328  ...       3\n",
              "1992        5235  ...       3\n",
              "\n",
              "[5 rows x 6 columns]"
            ]
          },
          "metadata": {
            "tags": []
          },
          "execution_count": 31
        }
      ]
    },
    {
      "cell_type": "code",
      "metadata": {
        "id": "pfTCfPNA6BNO",
        "outputId": "6f31f4b3-1f18-4a27-f3fa-2a065d2b1c93",
        "colab": {
          "base_uri": "https://localhost:8080/",
          "height": 35
        }
      },
      "source": [
        "y_test[0]"
      ],
      "execution_count": null,
      "outputs": [
        {
          "output_type": "execute_result",
          "data": {
            "text/plain": [
              "<tf.Tensor: shape=(5,), dtype=float32, numpy=array([1., 0., 0., 0., 0.], dtype=float32)>"
            ]
          },
          "metadata": {
            "tags": []
          },
          "execution_count": 32
        }
      ]
    },
    {
      "cell_type": "code",
      "metadata": {
        "id": "lDHwAC03z-wx"
      },
      "source": [
        "model.save_weights(\"/content/drive/My Drive/Machine Learning/news_lstm_1.hdf5\")"
      ],
      "execution_count": null,
      "outputs": []
    },
    {
      "cell_type": "code",
      "metadata": {
        "id": "Ql7GkI9haQqa",
        "outputId": "f96bfe20-64a8-41b8-9a0c-8d6763385494",
        "colab": {
          "base_uri": "https://localhost:8080/",
          "height": 161
        }
      },
      "source": [
        "model.save(\"/content/drive/My Drive/Machine Learning/2020USElectionModel/LSTM30epochs\")"
      ],
      "execution_count": 32,
      "outputs": [
        {
          "output_type": "stream",
          "text": [
            "WARNING:tensorflow:From /usr/local/lib/python3.6/dist-packages/tensorflow/python/training/tracking/tracking.py:111: Model.state_updates (from tensorflow.python.keras.engine.training) is deprecated and will be removed in a future version.\n",
            "Instructions for updating:\n",
            "This property should not be used in TensorFlow 2.0, as updates are applied automatically.\n",
            "WARNING:tensorflow:From /usr/local/lib/python3.6/dist-packages/tensorflow/python/training/tracking/tracking.py:111: Layer.updates (from tensorflow.python.keras.engine.base_layer) is deprecated and will be removed in a future version.\n",
            "Instructions for updating:\n",
            "This property should not be used in TensorFlow 2.0, as updates are applied automatically.\n",
            "INFO:tensorflow:Assets written to: /content/drive/My Drive/Machine Learning/2020USElectionModel/LSTM30epochs/assets\n"
          ],
          "name": "stdout"
        }
      ]
    },
    {
      "cell_type": "code",
      "metadata": {
        "id": "gQtnJr2haVHU",
        "outputId": "71ec6f43-a2d4-401a-805d-7da24644a781",
        "colab": {
          "base_uri": "https://localhost:8080/",
          "height": 35
        }
      },
      "source": [
        "from google.colab import drive\n",
        "drive.mount('/content/drive')"
      ],
      "execution_count": 30,
      "outputs": [
        {
          "output_type": "stream",
          "text": [
            "Drive already mounted at /content/drive; to attempt to forcibly remount, call drive.mount(\"/content/drive\", force_remount=True).\n"
          ],
          "name": "stdout"
        }
      ]
    },
    {
      "cell_type": "code",
      "metadata": {
        "id": "wEqsHugNvTk0"
      },
      "source": [
        "def predict(text):\n",
        "  text = [text]\n",
        "  seq = t.texts_to_sequences(text)\n",
        "  text_arr = pad_sequences(maxlen=max_len, sequences=seq, padding=\"post\", value=0)\n",
        "  print(text_arr)\n",
        "  text_arr.shape\n",
        "  return model.predict(text_arr)"
      ],
      "execution_count": 36,
      "outputs": []
    },
    {
      "cell_type": "code",
      "metadata": {
        "id": "PLCE4ALhvwtU",
        "outputId": "b9cbc5c5-73b4-4dc6-ef08-bd04b54c8554",
        "colab": {
          "base_uri": "https://localhost:8080/",
          "height": 141
        }
      },
      "source": [
        "results = predict(\"We are going to make Ameriaca great again!\")\n",
        "print(results)"
      ],
      "execution_count": 37,
      "outputs": [
        {
          "output_type": "stream",
          "text": [
            "[[ 10  19  18   3  94  49 158   0   0   0   0   0   0   0   0   0   0   0\n",
            "    0   0   0   0   0   0   0   0   0   0   0   0   0   0   0   0   0   0\n",
            "    0   0   0   0   0   0   0   0   0   0   0   0   0   0   0   0   0   0\n",
            "    0   0   0   0   0   0   0   0   0   0   0   0   0   0   0   0   0   0\n",
            "    0   0   0   0   0   0   0   0   0   0   0   0   0   0   0   0   0   0\n",
            "    0   0   0   0   0   0   0   0   0   0]]\n",
            "[[0.00267218 0.02753944 0.00133989 0.96213305 0.00631544]]\n"
          ],
          "name": "stdout"
        }
      ]
    },
    {
      "cell_type": "code",
      "metadata": {
        "id": "C8M2vIJBwTEK",
        "outputId": "f74b0a61-86ec-4ffc-d706-bb3d02ed048e",
        "colab": {
          "base_uri": "https://localhost:8080/",
          "height": 70
        }
      },
      "source": [
        "arg=np.argmax(results)\n",
        "print(arg)\n",
        "print(results[0][arg])\n",
        "print(m[arg])"
      ],
      "execution_count": 39,
      "outputs": [
        {
          "output_type": "stream",
          "text": [
            "3\n",
            "0.96213305\n",
            "Donald Trump\n"
          ],
          "name": "stdout"
        }
      ]
    },
    {
      "cell_type": "code",
      "metadata": {
        "id": "uZDvs9TjaGDb",
        "outputId": "73ceb0d5-609c-41fb-db25-695e8706e1dd",
        "colab": {
          "base_uri": "https://localhost:8080/",
          "height": 34
        }
      },
      "source": [
        "24]"
      ],
      "execution_count": null,
      "outputs": [
        {
          "output_type": "execute_result",
          "data": {
            "text/plain": [
              "'WORLD NEWS'"
            ]
          },
          "metadata": {
            "tags": []
          },
          "execution_count": 92
        }
      ]
    },
    {
      "cell_type": "code",
      "metadata": {
        "id": "emDnBwP9aIyN"
      },
      "source": [
        ""
      ],
      "execution_count": null,
      "outputs": []
    }
  ]
}